{
 "cells": [
  {
   "attachments": {},
   "cell_type": "markdown",
   "metadata": {},
   "source": [
    "---\n",
    "# Homework 4\n",
    "## BUSN 41204 - 2023\n",
    "\n",
    "- Aman Krishna\n",
    "- Christian Pavilanis\n",
    "- Jingwen Li\n",
    "- Yazmin Ramirez Delgado  \n",
    "---"
   ]
  },
  {
   "attachments": {},
   "cell_type": "markdown",
   "metadata": {},
   "source": [
    "## Question 1\n",
    "For each statement write if it is true or false and provide a one sentence explanation. You will get points only if your explanation is correct.\n",
    "\n",
    "#### 1. \n",
    "Subset selection hierarchy:\n",
    "\n",
    "a. The predictors in the k-variable model identified by forward stepwise are a subset of the predictors in the (k + 1)-variable model identified by forward stepwise selection.\n",
    "\n",
    "R.\n",
    "\n",
    "> True. Forward stepwise selection begins with a model containing no predictors, and then adds predictors to the models, one at a time until all of the predictors are in the model.\n",
    "\n",
    "b. The predictors in the k-variable model identified by backward stepwise are a subset of the predictors in the (k + 1)-variable model identified by backward stepwise selection.\n",
    "\n",
    "R.\n",
    "\n",
    "> True. The model with k predictors is obtained by removing one predictor from the model with (k+1) predictors.\n",
    "\n",
    "\n",
    "c. The predictors in the k-variable model identified by best subset are a subset of the predictors in the (k + 1)-variable model identified by best subset selection.\n",
    "\n",
    "R.\n",
    "\n",
    "> False. The model with (k+1) predictors is obtained by selecting among all possible models with (k+1) predictors, and so does not necessarily contain all the predictors selected for the k-variable model.\n",
    "\n",
    "d. The predictors in the k-variable model identified by best subset are a subset of the predictors in the (k + 1)-variable model identified by forward stepwise selection.\n",
    "\n",
    "R. \n",
    "\n",
    "> False. It is possible that the best k-variable model selected by best subset selection is a subset of the (k + 1)-variable model selected by forward stepwise selection, but it is not guaranteed. \n",
    "\n",
    "e. The 1-variable model identified by best subset is the same as identified by forward stepwise selection.\n",
    "\n",
    "R.\n",
    "\n",
    "> True. Both best subset selection and forward stepwise selection start by considering the addition of a single variable to the model. In this case, the 1-variable model would consist of the variable that results in the best fit among all the variables being considered.\n",
    "\n",
    "f. The 1-variable model identified by backward stepwise is the same as identified by forward stepwise selection.\n",
    "\n",
    "R. \n",
    "\n",
    ">False. There is no direct link between the models obtained from forward and backward selection."
   ]
  },
  {
   "attachments": {},
   "cell_type": "markdown",
   "metadata": {},
   "source": [
    "#### 2. \n",
    "The following plot shows the cross validation scores for a ridge regression model with different values of the tuning parameter λ. Note that here what is plotted as the x-axis is the ratio of the l2 norms of the ridge regression estimate $ \\widehat \\beta^{R}_{\\lambda}$ and the least squares estimate $ \\widehat \\beta $.  The two dashed lines correspond to two values of λ, and hence two models.\n",
    "\n",
    "a. Model I uses a larger λ than Model II.\n",
    "\n",
    "R. \n",
    "\n",
    ">\n",
    "\n",
    "b. Model I has a higher bias than Model II.\n",
    "\n",
    "R.\n",
    "\n",
    ">\n",
    "\n",
    "c. Model I has a larger in-sample RSS than Model II.\n",
    "\n",
    "R.\n",
    "\n",
    ">\n",
    "\n",
    "d. Model I may have a larger test error than Model II.\n",
    "\n",
    "R.\n",
    "\n",
    ">"
   ]
  }
 ],
 "metadata": {
  "kernelspec": {
   "display_name": "base",
   "language": "python",
   "name": "python3"
  },
  "language_info": {
   "name": "python",
   "version": "3.9.13"
  },
  "orig_nbformat": 4,
  "vscode": {
   "interpreter": {
    "hash": "3067ead486e059ec00ffe7555bdb889e6e264a24dc711bf108106cc7baee8d5d"
   }
  }
 },
 "nbformat": 4,
 "nbformat_minor": 2
}
