{
 "cells": [
  {
   "attachments": {},
   "cell_type": "markdown",
   "metadata": {},
   "source": [
    "# Homework 3\n",
    "## BUSN 41204 - 2023\n",
    "\n",
    "- Aman Krishna\n",
    "- Christian Pavilanis\n",
    "- Jingwen Li\n",
    "- Yazmin Ramirez Delgado"
   ]
  },
  {
   "cell_type": "markdown",
   "metadata": {},
   "source": [
    "# 1 Load relevant libraries"
   ]
  },
  {
   "cell_type": "code",
   "execution_count": 104,
   "metadata": {},
   "outputs": [],
   "source": [
    "# First we import the necessary libraries\n",
    "import pandas as pd\n",
    "pd.set_option(\"display.precision\", 4)\n",
    "import numpy as np\n",
    "from datetime import datetime\n",
    "from datetime import timedelta\n",
    "from matplotlib import pyplot as plt\n",
    "import seaborn as sn\n",
    "import scipy as sp\n",
    "from sklearn.tree import DecisionTreeClassifier\n",
    "import warnings\n",
    "warnings.filterwarnings(\"ignore\")\n",
    "import random \n",
    "import math\n",
    "from IPython.display import Markdown, display\n",
    "def printmd(string):\n",
    "    display(Markdown(string))\n",
    "# Fit a logistic regression model\n",
    "from sklearn.linear_model import LogisticRegression\n",
    "from sklearn.metrics import roc_auc_score"
   ]
  },
  {
   "cell_type": "markdown",
   "metadata": {},
   "source": [
    "# 2 Load the data"
   ]
  },
  {
   "cell_type": "markdown",
   "metadata": {},
   "source": [
    "Here we will load the data from the CSV data file, examine its structure, and fix the data types incorrectly identified by R when importing from CSV.\n",
    "\n",
    ">STCdata_A<-read.csv('travelData.csv')\\\n",
    ">STCdata_A<-STCdata_A[,-1]\n",
    "\n",
    "You can use the function str to quickly check the internal structure of an R object. Here we are using it to investigate type of data in each column of the loaded data.\n",
    "\n",
    ">str(STCdata_A)\n",
    "\n",
    "Notice that some columns are identified as numerical or integer, but really the should be factors.\n",
    "\n",
    "For instance, we have that column From.Grade\n",
    "\n",
    ">n_distinct(STCdata_A$From.Grade, na.rm = FALSE)  ## n_distinct is a function from dplyr package\n",
    "\n",
    "only has 11 levels. It might be a better idea to treat it as a factor instead. You can fix incorrectly classified data types as follows:"
   ]
  },
  {
   "cell_type": "code",
   "execution_count": 71,
   "metadata": {},
   "outputs": [],
   "source": [
    "STCdata_A = pd.read_csv('travelData.csv')\n",
    "STCdata_A = STCdata_A.iloc[:, 1:]"
   ]
  },
  {
   "cell_type": "code",
   "execution_count": 72,
   "metadata": {},
   "outputs": [
    {
     "data": {
      "text/plain": [
       "Program.Code                       object\n",
       "From.Grade                        float64\n",
       "To.Grade                          float64\n",
       "Group.State                        object\n",
       "Is.Non.Annual.                      int64\n",
       "Days                                int64\n",
       "Travel.Type                        object\n",
       "Departure.Date                     object\n",
       "Return.Date                        object\n",
       "Deposit.Date                       object\n",
       "Special.Pay                        object\n",
       "Tuition                             int64\n",
       "FRP.Active                          int64\n",
       "FRP.Cancelled                       int64\n",
       "FRP.Take.up.percent.              float64\n",
       "Early.RPL                          object\n",
       "Latest.RPL                         object\n",
       "Cancelled.Pax                       int64\n",
       "Total.Discount.Pax                  int64\n",
       "Initial.System.Date                object\n",
       "Poverty.Code                       object\n",
       "Region                             object\n",
       "CRM.Segment                       float64\n",
       "School.Type                        object\n",
       "Parent.Meeting.Flag                 int64\n",
       "MDR.Low.Grade                      object\n",
       "MDR.High.Grade                    float64\n",
       "Total.School.Enrollment           float64\n",
       "Income.Level                       object\n",
       "EZ.Pay.Take.Up.Rate               float64\n",
       "School.Sponsor                      int64\n",
       "SPR.Product.Type                   object\n",
       "SPR.New.Existing                   object\n",
       "FPP                                 int64\n",
       "Total.Pax                           int64\n",
       "SPR.Group.Revenue                   int64\n",
       "NumberOfMeetingswithParents         int64\n",
       "FirstMeeting                       object\n",
       "LastMeeting                        object\n",
       "DifferenceTraveltoFirstMeeting    float64\n",
       "DifferenceTraveltoLastMeeting     float64\n",
       "SchoolGradeTypeLow                 object\n",
       "SchoolGradeTypeHigh                object\n",
       "SchoolGradeType                    object\n",
       "DepartureMonth                     object\n",
       "GroupGradeTypeLow                  object\n",
       "GroupGradeTypeHigh                 object\n",
       "GroupGradeType                     object\n",
       "MajorProgramCode                   object\n",
       "SingleGradeTripFlag                 int64\n",
       "FPP.to.School.enrollment          float64\n",
       "FPP.to.PAX                        float64\n",
       "Num.of.Non_FPP.PAX                  int64\n",
       "SchoolSizeIndicator                object\n",
       "Retained.in.2012.                   int64\n",
       "dtype: object"
      ]
     },
     "execution_count": 72,
     "metadata": {},
     "output_type": "execute_result"
    }
   ],
   "source": [
    "STCdata_A.dtypes"
   ]
  },
  {
   "cell_type": "code",
   "execution_count": 73,
   "metadata": {},
   "outputs": [
    {
     "data": {
      "text/plain": [
       "11"
      ]
     },
     "execution_count": 73,
     "metadata": {},
     "output_type": "execute_result"
    }
   ],
   "source": [
    "distinct = STCdata_A['From.Grade'].unique()\n",
    "len(distinct)"
   ]
  },
  {
   "cell_type": "code",
   "execution_count": 74,
   "metadata": {},
   "outputs": [],
   "source": [
    "STCdata_A['From.Grade'] = STCdata_A['From.Grade'].astype('category')"
   ]
  },
  {
   "cell_type": "code",
   "execution_count": 75,
   "metadata": {},
   "outputs": [
    {
     "data": {
      "text/plain": [
       "Program.Code                        object\n",
       "From.Grade                        category\n",
       "To.Grade                           float64\n",
       "Group.State                         object\n",
       "Is.Non.Annual.                       int64\n",
       "Days                                 int64\n",
       "Travel.Type                         object\n",
       "Departure.Date                      object\n",
       "Return.Date                         object\n",
       "Deposit.Date                        object\n",
       "Special.Pay                         object\n",
       "Tuition                              int64\n",
       "FRP.Active                           int64\n",
       "FRP.Cancelled                        int64\n",
       "FRP.Take.up.percent.               float64\n",
       "Early.RPL                           object\n",
       "Latest.RPL                          object\n",
       "Cancelled.Pax                        int64\n",
       "Total.Discount.Pax                   int64\n",
       "Initial.System.Date                 object\n",
       "Poverty.Code                        object\n",
       "Region                              object\n",
       "CRM.Segment                        float64\n",
       "School.Type                         object\n",
       "Parent.Meeting.Flag                  int64\n",
       "MDR.Low.Grade                       object\n",
       "MDR.High.Grade                     float64\n",
       "Total.School.Enrollment            float64\n",
       "Income.Level                        object\n",
       "EZ.Pay.Take.Up.Rate                float64\n",
       "School.Sponsor                       int64\n",
       "SPR.Product.Type                    object\n",
       "SPR.New.Existing                    object\n",
       "FPP                                  int64\n",
       "Total.Pax                            int64\n",
       "SPR.Group.Revenue                    int64\n",
       "NumberOfMeetingswithParents          int64\n",
       "FirstMeeting                        object\n",
       "LastMeeting                         object\n",
       "DifferenceTraveltoFirstMeeting     float64\n",
       "DifferenceTraveltoLastMeeting      float64\n",
       "SchoolGradeTypeLow                  object\n",
       "SchoolGradeTypeHigh                 object\n",
       "SchoolGradeType                     object\n",
       "DepartureMonth                      object\n",
       "GroupGradeTypeLow                   object\n",
       "GroupGradeTypeHigh                  object\n",
       "GroupGradeType                      object\n",
       "MajorProgramCode                    object\n",
       "SingleGradeTripFlag                  int64\n",
       "FPP.to.School.enrollment           float64\n",
       "FPP.to.PAX                         float64\n",
       "Num.of.Non_FPP.PAX                   int64\n",
       "SchoolSizeIndicator                 object\n",
       "Retained.in.2012.                    int64\n",
       "dtype: object"
      ]
     },
     "execution_count": 75,
     "metadata": {},
     "output_type": "execute_result"
    }
   ],
   "source": [
    "STCdata_A.dtypes"
   ]
  },
  {
   "attachments": {},
   "cell_type": "markdown",
   "metadata": {},
   "source": [
    "Fix other columns that are numeric at the moment, but could be converted to factors. The following line first finds numeric columns and then identifies the number of unique elements in each one."
   ]
  },
  {
   "cell_type": "code",
   "execution_count": 76,
   "metadata": {},
   "outputs": [
    {
     "data": {
      "text/html": [
       "<div>\n",
       "<style scoped>\n",
       "    .dataframe tbody tr th:only-of-type {\n",
       "        vertical-align: middle;\n",
       "    }\n",
       "\n",
       "    .dataframe tbody tr th {\n",
       "        vertical-align: top;\n",
       "    }\n",
       "\n",
       "    .dataframe thead th {\n",
       "        text-align: right;\n",
       "    }\n",
       "</style>\n",
       "<table border=\"1\" class=\"dataframe\">\n",
       "  <thead>\n",
       "    <tr style=\"text-align: right;\">\n",
       "      <th></th>\n",
       "      <th>unique</th>\n",
       "      <th>column</th>\n",
       "    </tr>\n",
       "  </thead>\n",
       "  <tbody>\n",
       "    <tr>\n",
       "      <th>0</th>\n",
       "      <td>11</td>\n",
       "      <td>To.Grade</td>\n",
       "    </tr>\n",
       "    <tr>\n",
       "      <th>1</th>\n",
       "      <td>2</td>\n",
       "      <td>Is.Non.Annual.</td>\n",
       "    </tr>\n",
       "    <tr>\n",
       "      <th>2</th>\n",
       "      <td>12</td>\n",
       "      <td>Days</td>\n",
       "    </tr>\n",
       "    <tr>\n",
       "      <th>3</th>\n",
       "      <td>1230</td>\n",
       "      <td>Tuition</td>\n",
       "    </tr>\n",
       "    <tr>\n",
       "      <th>4</th>\n",
       "      <td>93</td>\n",
       "      <td>FRP.Active</td>\n",
       "    </tr>\n",
       "    <tr>\n",
       "      <th>5</th>\n",
       "      <td>29</td>\n",
       "      <td>FRP.Cancelled</td>\n",
       "    </tr>\n",
       "    <tr>\n",
       "      <th>6</th>\n",
       "      <td>476</td>\n",
       "      <td>FRP.Take.up.percent.</td>\n",
       "    </tr>\n",
       "    <tr>\n",
       "      <th>7</th>\n",
       "      <td>34</td>\n",
       "      <td>Cancelled.Pax</td>\n",
       "    </tr>\n",
       "    <tr>\n",
       "      <th>8</th>\n",
       "      <td>26</td>\n",
       "      <td>Total.Discount.Pax</td>\n",
       "    </tr>\n",
       "    <tr>\n",
       "      <th>9</th>\n",
       "      <td>12</td>\n",
       "      <td>CRM.Segment</td>\n",
       "    </tr>\n",
       "    <tr>\n",
       "      <th>10</th>\n",
       "      <td>2</td>\n",
       "      <td>Parent.Meeting.Flag</td>\n",
       "    </tr>\n",
       "    <tr>\n",
       "      <th>11</th>\n",
       "      <td>13</td>\n",
       "      <td>MDR.High.Grade</td>\n",
       "    </tr>\n",
       "    <tr>\n",
       "      <th>12</th>\n",
       "      <td>894</td>\n",
       "      <td>Total.School.Enrollment</td>\n",
       "    </tr>\n",
       "    <tr>\n",
       "      <th>13</th>\n",
       "      <td>371</td>\n",
       "      <td>EZ.Pay.Take.Up.Rate</td>\n",
       "    </tr>\n",
       "    <tr>\n",
       "      <th>14</th>\n",
       "      <td>2</td>\n",
       "      <td>School.Sponsor</td>\n",
       "    </tr>\n",
       "    <tr>\n",
       "      <th>15</th>\n",
       "      <td>146</td>\n",
       "      <td>FPP</td>\n",
       "    </tr>\n",
       "    <tr>\n",
       "      <th>16</th>\n",
       "      <td>159</td>\n",
       "      <td>Total.Pax</td>\n",
       "    </tr>\n",
       "    <tr>\n",
       "      <th>17</th>\n",
       "      <td>1230</td>\n",
       "      <td>SPR.Group.Revenue</td>\n",
       "    </tr>\n",
       "    <tr>\n",
       "      <th>18</th>\n",
       "      <td>3</td>\n",
       "      <td>NumberOfMeetingswithParents</td>\n",
       "    </tr>\n",
       "    <tr>\n",
       "      <th>19</th>\n",
       "      <td>343</td>\n",
       "      <td>DifferenceTraveltoFirstMeeting</td>\n",
       "    </tr>\n",
       "    <tr>\n",
       "      <th>20</th>\n",
       "      <td>252</td>\n",
       "      <td>DifferenceTraveltoLastMeeting</td>\n",
       "    </tr>\n",
       "    <tr>\n",
       "      <th>21</th>\n",
       "      <td>2</td>\n",
       "      <td>SingleGradeTripFlag</td>\n",
       "    </tr>\n",
       "    <tr>\n",
       "      <th>22</th>\n",
       "      <td>1910</td>\n",
       "      <td>FPP.to.School.enrollment</td>\n",
       "    </tr>\n",
       "    <tr>\n",
       "      <th>23</th>\n",
       "      <td>306</td>\n",
       "      <td>FPP.to.PAX</td>\n",
       "    </tr>\n",
       "    <tr>\n",
       "      <th>24</th>\n",
       "      <td>26</td>\n",
       "      <td>Num.of.Non_FPP.PAX</td>\n",
       "    </tr>\n",
       "    <tr>\n",
       "      <th>25</th>\n",
       "      <td>2</td>\n",
       "      <td>Retained.in.2012.</td>\n",
       "    </tr>\n",
       "  </tbody>\n",
       "</table>\n",
       "</div>"
      ],
      "text/plain": [
       "    unique                          column\n",
       "0       11                        To.Grade\n",
       "1        2                  Is.Non.Annual.\n",
       "2       12                            Days\n",
       "3     1230                         Tuition\n",
       "4       93                      FRP.Active\n",
       "5       29                   FRP.Cancelled\n",
       "6      476            FRP.Take.up.percent.\n",
       "7       34                   Cancelled.Pax\n",
       "8       26              Total.Discount.Pax\n",
       "9       12                     CRM.Segment\n",
       "10       2             Parent.Meeting.Flag\n",
       "11      13                  MDR.High.Grade\n",
       "12     894         Total.School.Enrollment\n",
       "13     371             EZ.Pay.Take.Up.Rate\n",
       "14       2                  School.Sponsor\n",
       "15     146                             FPP\n",
       "16     159                       Total.Pax\n",
       "17    1230               SPR.Group.Revenue\n",
       "18       3     NumberOfMeetingswithParents\n",
       "19     343  DifferenceTraveltoFirstMeeting\n",
       "20     252   DifferenceTraveltoLastMeeting\n",
       "21       2             SingleGradeTripFlag\n",
       "22    1910        FPP.to.School.enrollment\n",
       "23     306                      FPP.to.PAX\n",
       "24      26              Num.of.Non_FPP.PAX\n",
       "25       2               Retained.in.2012."
      ]
     },
     "execution_count": 76,
     "metadata": {},
     "output_type": "execute_result"
    }
   ],
   "source": [
    "unique_per_column = STCdata_A.select_dtypes(include=['float64','int64']).columns\n",
    "unique_per_column = [(len (STCdata_A[col].unique()), col) for col in unique_per_column]\n",
    "unique_per_column = pd.DataFrame(unique_per_column, columns=['unique', 'column'])\n",
    "unique_per_column"
   ]
  },
  {
   "attachments": {},
   "cell_type": "markdown",
   "metadata": {},
   "source": [
    "Let us convert every column that has less than 15 unique values into a factor. The following line identify names of such columns."
   ]
  },
  {
   "cell_type": "code",
   "execution_count": 77,
   "metadata": {},
   "outputs": [
    {
     "data": {
      "text/markdown": [
       "**Number of columns that changed:** 10"
      ],
      "text/plain": [
       "<IPython.core.display.Markdown object>"
      ]
     },
     "metadata": {},
     "output_type": "display_data"
    }
   ],
   "source": [
    "# If the number of unique values is less than 15, we will convert the column to a factor\n",
    "for col in unique_per_column[unique_per_column['unique'] < 15]['column']:\n",
    "    STCdata_A[col] = STCdata_A[col].astype('category')\n",
    "\n",
    "# Print the number of colums that changed\n",
    "printmd('**Number of columns that changed:** {}'.format(len(unique_per_column[unique_per_column['unique'] < 15]['column'])))"
   ]
  },
  {
   "attachments": {},
   "cell_type": "markdown",
   "metadata": {},
   "source": [
    "Now let’s take care of date columns."
   ]
  },
  {
   "cell_type": "code",
   "execution_count": 78,
   "metadata": {},
   "outputs": [],
   "source": [
    "date_columns = ['Departure.Date', 'Return.Date', 'Deposit.Date', 'Early.RPL', 'Latest.RPL','Initial.System.Date', 'FirstMeeting', 'LastMeeting']\n",
    "STCdata_A[date_columns] = STCdata_A[date_columns].apply(pd.to_datetime, format='%m/%d/%Y')\n"
   ]
  },
  {
   "cell_type": "code",
   "execution_count": 79,
   "metadata": {},
   "outputs": [
    {
     "data": {
      "text/plain": [
       "Program.Code                              object\n",
       "From.Grade                              category\n",
       "To.Grade                                category\n",
       "Group.State                               object\n",
       "Is.Non.Annual.                          category\n",
       "Days                                    category\n",
       "Travel.Type                               object\n",
       "Departure.Date                    datetime64[ns]\n",
       "Return.Date                       datetime64[ns]\n",
       "Deposit.Date                      datetime64[ns]\n",
       "Special.Pay                               object\n",
       "Tuition                                    int64\n",
       "FRP.Active                                 int64\n",
       "FRP.Cancelled                              int64\n",
       "FRP.Take.up.percent.                     float64\n",
       "Early.RPL                         datetime64[ns]\n",
       "Latest.RPL                        datetime64[ns]\n",
       "Cancelled.Pax                              int64\n",
       "Total.Discount.Pax                         int64\n",
       "Initial.System.Date               datetime64[ns]\n",
       "Poverty.Code                              object\n",
       "Region                                    object\n",
       "CRM.Segment                             category\n",
       "School.Type                               object\n",
       "Parent.Meeting.Flag                     category\n",
       "MDR.Low.Grade                             object\n",
       "MDR.High.Grade                          category\n",
       "Total.School.Enrollment                  float64\n",
       "Income.Level                              object\n",
       "EZ.Pay.Take.Up.Rate                      float64\n",
       "School.Sponsor                          category\n",
       "SPR.Product.Type                          object\n",
       "SPR.New.Existing                          object\n",
       "FPP                                        int64\n",
       "Total.Pax                                  int64\n",
       "SPR.Group.Revenue                          int64\n",
       "NumberOfMeetingswithParents             category\n",
       "FirstMeeting                      datetime64[ns]\n",
       "LastMeeting                       datetime64[ns]\n",
       "DifferenceTraveltoFirstMeeting           float64\n",
       "DifferenceTraveltoLastMeeting            float64\n",
       "SchoolGradeTypeLow                        object\n",
       "SchoolGradeTypeHigh                       object\n",
       "SchoolGradeType                           object\n",
       "DepartureMonth                            object\n",
       "GroupGradeTypeLow                         object\n",
       "GroupGradeTypeHigh                        object\n",
       "GroupGradeType                            object\n",
       "MajorProgramCode                          object\n",
       "SingleGradeTripFlag                     category\n",
       "FPP.to.School.enrollment                 float64\n",
       "FPP.to.PAX                               float64\n",
       "Num.of.Non_FPP.PAX                         int64\n",
       "SchoolSizeIndicator                       object\n",
       "Retained.in.2012.                       category\n",
       "dtype: object"
      ]
     },
     "execution_count": 79,
     "metadata": {},
     "output_type": "execute_result"
    }
   ],
   "source": [
    "STCdata_A.dtypes"
   ]
  },
  {
   "cell_type": "code",
   "execution_count": 80,
   "metadata": {},
   "outputs": [
    {
     "data": {
      "text/markdown": [
       "**Number of columns that changed:** 20"
      ],
      "text/plain": [
       "<IPython.core.display.Markdown object>"
      ]
     },
     "metadata": {},
     "output_type": "display_data"
    }
   ],
   "source": [
    "# Print the number of colums that changed\n",
    "printmd('**Number of columns that changed:** {}'.format(len(STCdata_A.select_dtypes(include=['object']).columns)))\n",
    "STCdata_A[STCdata_A.select_dtypes(include=['object']).columns] = STCdata_A.select_dtypes(include=['object']).apply(lambda x: x.astype('category'))"
   ]
  },
  {
   "attachments": {},
   "cell_type": "markdown",
   "metadata": {},
   "source": [
    "### 3 Data preprocessing"
   ]
  },
  {
   "attachments": {},
   "cell_type": "markdown",
   "metadata": {},
   "source": [
    "The data contains a number of columns with missing values. Let’s investigate. The following tells us the number of missing values in each column.\n",
    "> sapply(STCdata_A, function(x) sum(is.na(x)))\n",
    "> \n",
    "Dealing with missing values is a challenging problem, which could occupy a quarter of its own. The purpose of this homework is not to investigate in-depth approaches to dealing with missing values, but rather to investigate classification. For that reason, we take the following simple approach.\n",
    "\n",
    "The function fixNAs below fixes missing values. The function defines reactions:\n",
    "\n",
    "• adds a new category “FIXED_NA” for a missing value of a categorical/factor variable;\\\n",
    "• fills zero value for a missing value of a numeric variable;\\\n",
    "• fills “1900-01-01” for a missing value of a date variable.\n",
    "\n",
    "Then it loops through all columns in the dataframe, reads their types, and loops through all the values, applying the defined reaction to any missing data point. In addition, the function creates a surrogate dummy variable for each column containing at least one missing value (for example, Special.Pay_surrogate), which takes a value of 1 whenever the original variable (Special.Pay) has a missing value, and 0 otherwise."
   ]
  },
  {
   "cell_type": "code",
   "execution_count": 81,
   "metadata": {},
   "outputs": [
    {
     "data": {
      "text/markdown": [
       "**Number of NAs in Special Pay:** 62"
      ],
      "text/plain": [
       "<IPython.core.display.Markdown object>"
      ]
     },
     "metadata": {},
     "output_type": "display_data"
    }
   ],
   "source": [
    "# Count the number of NAs in Special Pay\n",
    "printmd('**Number of NAs in Special Pay:** {}'.format(STCdata_A['Income.Level'].isna().sum()))"
   ]
  },
  {
   "cell_type": "code",
   "execution_count": 82,
   "metadata": {},
   "outputs": [],
   "source": [
    "def fixNAs(data_frame):\n",
    "  # Define reactions to NAs\n",
    "  integer_reac = 0\n",
    "  factor_reac = \"FIXED_NA\"\n",
    "  character_reac = \"FIXED_NA\"\n",
    "  date_reac = pd.to_datetime(\"1900-01-01\")\n",
    "  \n",
    "  for col in data_frame.columns:\n",
    "    col_data = data_frame[col]\n",
    "    if col_data.dtype in [int, float]:\n",
    "      if pd.isnull(col_data).sum() > 0:\n",
    "        data_frame[f\"{col}_surrogate\"] = (col_data.isna()).astype(int).astype(str)\n",
    "        data_frame[col].fillna(integer_reac, inplace=True)\n",
    "    elif col_data.dtype == object:\n",
    "      if pd.isnull(col_data).sum() > 0:\n",
    "        data_frame[f\"{col}_surrogate\"] = (col_data.isna()).astype(int).astype(str)\n",
    "        data_frame[col].fillna(character_reac, inplace=True)\n",
    "    elif col_data.dtype == 'datetime64[ns]':\n",
    "      if pd.isnull(col_data).sum() > 0:\n",
    "        data_frame[f\"{col}_surrogate\"] = (col_data.isna()).astype(int).astype(str)\n",
    "        data_frame[col].fillna(date_reac, inplace=True)\n",
    "    elif col_data.dtype == 'category':\n",
    "      if pd.isnull(col_data).sum() > 0:\n",
    "        #adds a new category \"FIXED_NA\" for a missing value of a categorical/factor variable\n",
    "        data_frame[col].cat.add_categories('FIXED_NA', inplace=True)\n",
    "        data_frame[f\"{col}_surrogate\"] = (col_data.isna()).astype(int).astype(str)\n",
    "        data_frame[col].fillna(factor_reac, inplace=True)\n",
    "\n",
    "  return data_frame"
   ]
  },
  {
   "cell_type": "code",
   "execution_count": 83,
   "metadata": {},
   "outputs": [],
   "source": [
    "STCdata_A = fixNAs(STCdata_A)"
   ]
  },
  {
   "attachments": {},
   "cell_type": "markdown",
   "metadata": {},
   "source": [
    "We can see that the columns do not have any missing values any more."
   ]
  },
  {
   "cell_type": "code",
   "execution_count": 84,
   "metadata": {},
   "outputs": [
    {
     "data": {
      "text/plain": [
       "False"
      ]
     },
     "execution_count": 84,
     "metadata": {},
     "output_type": "execute_result"
    }
   ],
   "source": [
    "any(STCdata_A.isnull().sum() > 0)"
   ]
  },
  {
   "attachments": {},
   "cell_type": "markdown",
   "metadata": {},
   "source": [
    "Next, we combine the rare categories. Levels that do not occur often during training tend not to have reliable effect estimates and contribute to over-fit.\n",
    "\n",
    "Let us check for rare categories in the variable Group.State."
   ]
  },
  {
   "cell_type": "code",
   "execution_count": 85,
   "metadata": {},
   "outputs": [
    {
     "data": {
      "text/html": [
       "<div>\n",
       "<style scoped>\n",
       "    .dataframe tbody tr th:only-of-type {\n",
       "        vertical-align: middle;\n",
       "    }\n",
       "\n",
       "    .dataframe tbody tr th {\n",
       "        vertical-align: top;\n",
       "    }\n",
       "\n",
       "    .dataframe thead th {\n",
       "        text-align: right;\n",
       "    }\n",
       "</style>\n",
       "<table border=\"1\" class=\"dataframe\">\n",
       "  <thead>\n",
       "    <tr style=\"text-align: right;\">\n",
       "      <th></th>\n",
       "      <th>Group.State</th>\n",
       "    </tr>\n",
       "  </thead>\n",
       "  <tbody>\n",
       "    <tr>\n",
       "      <th>CA</th>\n",
       "      <td>718</td>\n",
       "    </tr>\n",
       "    <tr>\n",
       "      <th>TX</th>\n",
       "      <td>308</td>\n",
       "    </tr>\n",
       "    <tr>\n",
       "      <th>WA</th>\n",
       "      <td>147</td>\n",
       "    </tr>\n",
       "    <tr>\n",
       "      <th>IL</th>\n",
       "      <td>104</td>\n",
       "    </tr>\n",
       "    <tr>\n",
       "      <th>CO</th>\n",
       "      <td>89</td>\n",
       "    </tr>\n",
       "    <tr>\n",
       "      <th>MI</th>\n",
       "      <td>71</td>\n",
       "    </tr>\n",
       "    <tr>\n",
       "      <th>FL</th>\n",
       "      <td>62</td>\n",
       "    </tr>\n",
       "    <tr>\n",
       "      <th>OH</th>\n",
       "      <td>53</td>\n",
       "    </tr>\n",
       "    <tr>\n",
       "      <th>AZ</th>\n",
       "      <td>53</td>\n",
       "    </tr>\n",
       "    <tr>\n",
       "      <th>OR</th>\n",
       "      <td>51</td>\n",
       "    </tr>\n",
       "    <tr>\n",
       "      <th>MN</th>\n",
       "      <td>51</td>\n",
       "    </tr>\n",
       "    <tr>\n",
       "      <th>WI</th>\n",
       "      <td>46</td>\n",
       "    </tr>\n",
       "    <tr>\n",
       "      <th>IN</th>\n",
       "      <td>43</td>\n",
       "    </tr>\n",
       "    <tr>\n",
       "      <th>MO</th>\n",
       "      <td>43</td>\n",
       "    </tr>\n",
       "    <tr>\n",
       "      <th>NE</th>\n",
       "      <td>42</td>\n",
       "    </tr>\n",
       "    <tr>\n",
       "      <th>TN</th>\n",
       "      <td>38</td>\n",
       "    </tr>\n",
       "    <tr>\n",
       "      <th>MA</th>\n",
       "      <td>36</td>\n",
       "    </tr>\n",
       "    <tr>\n",
       "      <th>IA</th>\n",
       "      <td>35</td>\n",
       "    </tr>\n",
       "    <tr>\n",
       "      <th>OK</th>\n",
       "      <td>33</td>\n",
       "    </tr>\n",
       "    <tr>\n",
       "      <th>LA</th>\n",
       "      <td>31</td>\n",
       "    </tr>\n",
       "    <tr>\n",
       "      <th>KS</th>\n",
       "      <td>26</td>\n",
       "    </tr>\n",
       "    <tr>\n",
       "      <th>GA</th>\n",
       "      <td>22</td>\n",
       "    </tr>\n",
       "    <tr>\n",
       "      <th>AL</th>\n",
       "      <td>21</td>\n",
       "    </tr>\n",
       "    <tr>\n",
       "      <th>NV</th>\n",
       "      <td>20</td>\n",
       "    </tr>\n",
       "    <tr>\n",
       "      <th>NM</th>\n",
       "      <td>20</td>\n",
       "    </tr>\n",
       "    <tr>\n",
       "      <th>NY</th>\n",
       "      <td>19</td>\n",
       "    </tr>\n",
       "    <tr>\n",
       "      <th>VA</th>\n",
       "      <td>18</td>\n",
       "    </tr>\n",
       "    <tr>\n",
       "      <th>KY</th>\n",
       "      <td>16</td>\n",
       "    </tr>\n",
       "    <tr>\n",
       "      <th>NC</th>\n",
       "      <td>16</td>\n",
       "    </tr>\n",
       "    <tr>\n",
       "      <th>MD</th>\n",
       "      <td>15</td>\n",
       "    </tr>\n",
       "    <tr>\n",
       "      <th>CT</th>\n",
       "      <td>15</td>\n",
       "    </tr>\n",
       "    <tr>\n",
       "      <th>ID</th>\n",
       "      <td>14</td>\n",
       "    </tr>\n",
       "    <tr>\n",
       "      <th>SD</th>\n",
       "      <td>11</td>\n",
       "    </tr>\n",
       "    <tr>\n",
       "      <th>SC</th>\n",
       "      <td>10</td>\n",
       "    </tr>\n",
       "    <tr>\n",
       "      <th>AR</th>\n",
       "      <td>10</td>\n",
       "    </tr>\n",
       "    <tr>\n",
       "      <th>MS</th>\n",
       "      <td>9</td>\n",
       "    </tr>\n",
       "    <tr>\n",
       "      <th>UT</th>\n",
       "      <td>9</td>\n",
       "    </tr>\n",
       "    <tr>\n",
       "      <th>HI</th>\n",
       "      <td>9</td>\n",
       "    </tr>\n",
       "    <tr>\n",
       "      <th>NH</th>\n",
       "      <td>7</td>\n",
       "    </tr>\n",
       "    <tr>\n",
       "      <th>ME</th>\n",
       "      <td>7</td>\n",
       "    </tr>\n",
       "    <tr>\n",
       "      <th>NJ</th>\n",
       "      <td>6</td>\n",
       "    </tr>\n",
       "    <tr>\n",
       "      <th>MT</th>\n",
       "      <td>6</td>\n",
       "    </tr>\n",
       "    <tr>\n",
       "      <th>ND</th>\n",
       "      <td>5</td>\n",
       "    </tr>\n",
       "    <tr>\n",
       "      <th>PA</th>\n",
       "      <td>5</td>\n",
       "    </tr>\n",
       "    <tr>\n",
       "      <th>AK</th>\n",
       "      <td>5</td>\n",
       "    </tr>\n",
       "    <tr>\n",
       "      <th>MX</th>\n",
       "      <td>3</td>\n",
       "    </tr>\n",
       "    <tr>\n",
       "      <th>RI</th>\n",
       "      <td>3</td>\n",
       "    </tr>\n",
       "    <tr>\n",
       "      <th>WY</th>\n",
       "      <td>2</td>\n",
       "    </tr>\n",
       "    <tr>\n",
       "      <th>PR</th>\n",
       "      <td>1</td>\n",
       "    </tr>\n",
       "    <tr>\n",
       "      <th>VT</th>\n",
       "      <td>1</td>\n",
       "    </tr>\n",
       "    <tr>\n",
       "      <th>Cayman Islands</th>\n",
       "      <td>1</td>\n",
       "    </tr>\n",
       "    <tr>\n",
       "      <th>Bermuda</th>\n",
       "      <td>1</td>\n",
       "    </tr>\n",
       "    <tr>\n",
       "      <th>WV</th>\n",
       "      <td>1</td>\n",
       "    </tr>\n",
       "    <tr>\n",
       "      <th>AB</th>\n",
       "      <td>1</td>\n",
       "    </tr>\n",
       "  </tbody>\n",
       "</table>\n",
       "</div>"
      ],
      "text/plain": [
       "                Group.State\n",
       "CA                      718\n",
       "TX                      308\n",
       "WA                      147\n",
       "IL                      104\n",
       "CO                       89\n",
       "MI                       71\n",
       "FL                       62\n",
       "OH                       53\n",
       "AZ                       53\n",
       "OR                       51\n",
       "MN                       51\n",
       "WI                       46\n",
       "IN                       43\n",
       "MO                       43\n",
       "NE                       42\n",
       "TN                       38\n",
       "MA                       36\n",
       "IA                       35\n",
       "OK                       33\n",
       "LA                       31\n",
       "KS                       26\n",
       "GA                       22\n",
       "AL                       21\n",
       "NV                       20\n",
       "NM                       20\n",
       "NY                       19\n",
       "VA                       18\n",
       "KY                       16\n",
       "NC                       16\n",
       "MD                       15\n",
       "CT                       15\n",
       "ID                       14\n",
       "SD                       11\n",
       "SC                       10\n",
       "AR                       10\n",
       "MS                        9\n",
       "UT                        9\n",
       "HI                        9\n",
       "NH                        7\n",
       "ME                        7\n",
       "NJ                        6\n",
       "MT                        6\n",
       "ND                        5\n",
       "PA                        5\n",
       "AK                        5\n",
       "MX                        3\n",
       "RI                        3\n",
       "WY                        2\n",
       "PR                        1\n",
       "VT                        1\n",
       "Cayman Islands            1\n",
       "Bermuda                   1\n",
       "WV                        1\n",
       "AB                        1"
      ]
     },
     "execution_count": 85,
     "metadata": {},
     "output_type": "execute_result"
    }
   ],
   "source": [
    "STCdata_A['Group.State'].value_counts().to_frame()"
   ]
  },
  {
   "cell_type": "code",
   "execution_count": 86,
   "metadata": {},
   "outputs": [
    {
     "data": {
      "image/png": "[encoded data removed]",
      "text/plain": [
       "<Figure size 1500x1000 with 1 Axes>"
      ]
     },
     "metadata": {},
     "output_type": "display_data"
    }
   ],
   "source": [
    "plot = STCdata_A['Group.State'].value_counts().to_frame()\n",
    "# Plot a beautiful bar chart\n",
    "plot.plot.bar(figsize=(15,10), fontsize=10, rot=0, color='navy')\n",
    "plt.title('Group State', fontsize=20)\n",
    "plt.xlabel('Group State', fontsize=15)\n",
    "plt.ylabel('Count', fontsize=15)\n",
    "plt.show()"
   ]
  },
  {
   "attachments": {},
   "cell_type": "markdown",
   "metadata": {},
   "source": [
    "Let us create a custom function to combine rare categories.\n",
    "The function again loops through all the columns in the dataframe,\n",
    "reads their types, and creates a table of counts \n",
    "for each level of the factor/categorical variables. All\n",
    "levels with counts less than the `mincount` are combined into \"other.\"\n",
    "The function combines rare categories into \"Other.\"+the name of the \n",
    "original variable (for example, `Other.State`).\n",
    "This function has two arguments: \n",
    "\n",
    "- the name of the dataframe; and \n",
    "- the count of observations in a category to define \"rare.\""
   ]
  },
  {
   "attachments": {},
   "cell_type": "markdown",
   "metadata": {},
   "source": [
    "Let us combine categories with $<10$ values in `STCdata` into \"Other.\"\n",
    "Ultimately, it is going to depend on the person doing the analysis on what\n",
    "they decide to call ``rare''."
   ]
  },
  {
   "cell_type": "code",
   "execution_count": 87,
   "metadata": {},
   "outputs": [],
   "source": [
    "def combine_rare_categories(data_frame, mincount):\n",
    "    for column in data_frame.columns:\n",
    "        if data_frame[column].dtype == \"category\":\n",
    "            replace = data_frame[column].value_counts()[data_frame[column].value_counts() < mincount].index\n",
    "            data_frame[column].replace(to_replace = replace, value = \"Other.\" + column, inplace = True)\n",
    "    return data_frame"
   ]
  },
  {
   "cell_type": "code",
   "execution_count": 88,
   "metadata": {},
   "outputs": [],
   "source": [
    "STCdata_A = combine_rare_categories(STCdata_A, 10)"
   ]
  },
  {
   "attachments": {},
   "cell_type": "markdown",
   "metadata": {},
   "source": [
    "Let us look at `Group.State` again."
   ]
  },
  {
   "cell_type": "code",
   "execution_count": 89,
   "metadata": {},
   "outputs": [
    {
     "data": {
      "text/html": [
       "<div>\n",
       "<style scoped>\n",
       "    .dataframe tbody tr th:only-of-type {\n",
       "        vertical-align: middle;\n",
       "    }\n",
       "\n",
       "    .dataframe tbody tr th {\n",
       "        vertical-align: top;\n",
       "    }\n",
       "\n",
       "    .dataframe thead th {\n",
       "        text-align: right;\n",
       "    }\n",
       "</style>\n",
       "<table border=\"1\" class=\"dataframe\">\n",
       "  <thead>\n",
       "    <tr style=\"text-align: right;\">\n",
       "      <th></th>\n",
       "      <th>Group.State</th>\n",
       "    </tr>\n",
       "  </thead>\n",
       "  <tbody>\n",
       "    <tr>\n",
       "      <th>CA</th>\n",
       "      <td>718</td>\n",
       "    </tr>\n",
       "    <tr>\n",
       "      <th>TX</th>\n",
       "      <td>308</td>\n",
       "    </tr>\n",
       "    <tr>\n",
       "      <th>WA</th>\n",
       "      <td>147</td>\n",
       "    </tr>\n",
       "    <tr>\n",
       "      <th>IL</th>\n",
       "      <td>104</td>\n",
       "    </tr>\n",
       "    <tr>\n",
       "      <th>CO</th>\n",
       "      <td>89</td>\n",
       "    </tr>\n",
       "    <tr>\n",
       "      <th>Other.Group.State</th>\n",
       "      <td>82</td>\n",
       "    </tr>\n",
       "    <tr>\n",
       "      <th>MI</th>\n",
       "      <td>71</td>\n",
       "    </tr>\n",
       "    <tr>\n",
       "      <th>FL</th>\n",
       "      <td>62</td>\n",
       "    </tr>\n",
       "    <tr>\n",
       "      <th>AZ</th>\n",
       "      <td>53</td>\n",
       "    </tr>\n",
       "    <tr>\n",
       "      <th>OH</th>\n",
       "      <td>53</td>\n",
       "    </tr>\n",
       "    <tr>\n",
       "      <th>MN</th>\n",
       "      <td>51</td>\n",
       "    </tr>\n",
       "    <tr>\n",
       "      <th>OR</th>\n",
       "      <td>51</td>\n",
       "    </tr>\n",
       "    <tr>\n",
       "      <th>WI</th>\n",
       "      <td>46</td>\n",
       "    </tr>\n",
       "    <tr>\n",
       "      <th>MO</th>\n",
       "      <td>43</td>\n",
       "    </tr>\n",
       "    <tr>\n",
       "      <th>IN</th>\n",
       "      <td>43</td>\n",
       "    </tr>\n",
       "    <tr>\n",
       "      <th>NE</th>\n",
       "      <td>42</td>\n",
       "    </tr>\n",
       "    <tr>\n",
       "      <th>TN</th>\n",
       "      <td>38</td>\n",
       "    </tr>\n",
       "    <tr>\n",
       "      <th>MA</th>\n",
       "      <td>36</td>\n",
       "    </tr>\n",
       "    <tr>\n",
       "      <th>IA</th>\n",
       "      <td>35</td>\n",
       "    </tr>\n",
       "    <tr>\n",
       "      <th>OK</th>\n",
       "      <td>33</td>\n",
       "    </tr>\n",
       "    <tr>\n",
       "      <th>LA</th>\n",
       "      <td>31</td>\n",
       "    </tr>\n",
       "    <tr>\n",
       "      <th>KS</th>\n",
       "      <td>26</td>\n",
       "    </tr>\n",
       "    <tr>\n",
       "      <th>GA</th>\n",
       "      <td>22</td>\n",
       "    </tr>\n",
       "    <tr>\n",
       "      <th>AL</th>\n",
       "      <td>21</td>\n",
       "    </tr>\n",
       "    <tr>\n",
       "      <th>NV</th>\n",
       "      <td>20</td>\n",
       "    </tr>\n",
       "    <tr>\n",
       "      <th>NM</th>\n",
       "      <td>20</td>\n",
       "    </tr>\n",
       "    <tr>\n",
       "      <th>NY</th>\n",
       "      <td>19</td>\n",
       "    </tr>\n",
       "    <tr>\n",
       "      <th>VA</th>\n",
       "      <td>18</td>\n",
       "    </tr>\n",
       "    <tr>\n",
       "      <th>NC</th>\n",
       "      <td>16</td>\n",
       "    </tr>\n",
       "    <tr>\n",
       "      <th>KY</th>\n",
       "      <td>16</td>\n",
       "    </tr>\n",
       "    <tr>\n",
       "      <th>MD</th>\n",
       "      <td>15</td>\n",
       "    </tr>\n",
       "    <tr>\n",
       "      <th>CT</th>\n",
       "      <td>15</td>\n",
       "    </tr>\n",
       "    <tr>\n",
       "      <th>ID</th>\n",
       "      <td>14</td>\n",
       "    </tr>\n",
       "    <tr>\n",
       "      <th>SD</th>\n",
       "      <td>11</td>\n",
       "    </tr>\n",
       "    <tr>\n",
       "      <th>SC</th>\n",
       "      <td>10</td>\n",
       "    </tr>\n",
       "    <tr>\n",
       "      <th>AR</th>\n",
       "      <td>10</td>\n",
       "    </tr>\n",
       "  </tbody>\n",
       "</table>\n",
       "</div>"
      ],
      "text/plain": [
       "                   Group.State\n",
       "CA                         718\n",
       "TX                         308\n",
       "WA                         147\n",
       "IL                         104\n",
       "CO                          89\n",
       "Other.Group.State           82\n",
       "MI                          71\n",
       "FL                          62\n",
       "AZ                          53\n",
       "OH                          53\n",
       "MN                          51\n",
       "OR                          51\n",
       "WI                          46\n",
       "MO                          43\n",
       "IN                          43\n",
       "NE                          42\n",
       "TN                          38\n",
       "MA                          36\n",
       "IA                          35\n",
       "OK                          33\n",
       "LA                          31\n",
       "KS                          26\n",
       "GA                          22\n",
       "AL                          21\n",
       "NV                          20\n",
       "NM                          20\n",
       "NY                          19\n",
       "VA                          18\n",
       "NC                          16\n",
       "KY                          16\n",
       "MD                          15\n",
       "CT                          15\n",
       "ID                          14\n",
       "SD                          11\n",
       "SC                          10\n",
       "AR                          10"
      ]
     },
     "execution_count": 89,
     "metadata": {},
     "output_type": "execute_result"
    }
   ],
   "source": [
    "STCdata_A['Group.State'].value_counts().to_frame()"
   ]
  },
  {
   "cell_type": "code",
   "execution_count": 90,
   "metadata": {},
   "outputs": [
    {
     "data": {
      "text/markdown": [
       "**Number of columns:** 73"
      ],
      "text/plain": [
       "<IPython.core.display.Markdown object>"
      ]
     },
     "metadata": {},
     "output_type": "display_data"
    }
   ],
   "source": [
    "# Number of columns\n",
    "printmd('**Number of columns:** {}'.format(len(STCdata_A.columns)))"
   ]
  },
  {
   "attachments": {},
   "cell_type": "markdown",
   "metadata": {},
   "source": [
    "# 4 Split the data into training and testing sets"
   ]
  },
  {
   "attachments": {},
   "cell_type": "markdown",
   "metadata": {},
   "source": [
    "This is a very important step, both conceptually and technically. Conceptually, because the goal of predictive modeling is not to build a model that fits well the data it trains on, but rather one that would best predict the new data. A test set is in this sense the best representation of what the “new data” may look like. Technically, to facilitate comparison between different models, we need to maintain the same IDs in the corresponding sets at all times. We will accomplishes this through two “tricks”:\n",
    "\n",
    "• a random seed ensures that the random-number generator is initialized identically in each run;\n",
    "\n",
    "• the inTrain vector is created once and can then be applied anytime the data needs to be split.\n",
    "\n",
    "By default, the code sets 500 data points in the test set, and the remainder 1,889 into the training set."
   ]
  },
  {
   "cell_type": "code",
   "execution_count": 91,
   "metadata": {},
   "outputs": [],
   "source": [
    "# set a random number generation seed to ensure that the split is the same every time set.seed(233)\n",
    "# split the data into training and test sets\n",
    "import random\n",
    "from sklearn.model_selection import train_test_split\n",
    "\n",
    "df_train, df_test = train_test_split(STCdata_A, test_size=1-1888/2389, random_state=233)"
   ]
  },
  {
   "attachments": {},
   "cell_type": "markdown",
   "metadata": {},
   "source": [
    "Let us check that both the training and test sets have a similar proportion of positive and negative cases."
   ]
  },
  {
   "cell_type": "code",
   "execution_count": 92,
   "metadata": {},
   "outputs": [
    {
     "name": "stdout",
     "output_type": "stream",
     "text": [
      "Training set proportion:\n",
      "1    0.6049\n",
      "0    0.3951\n",
      "Name: Retained.in.2012., dtype: float64\n",
      "Test set proportion:\n",
      "1    0.6168\n",
      "0    0.3832\n",
      "Name: Retained.in.2012., dtype: float64\n"
     ]
    }
   ],
   "source": [
    "print('Training set proportion:')\n",
    "print(df_train['Retained.in.2012.'].value_counts(normalize=True))\n",
    "\n",
    "print('Test set proportion:')\n",
    "print(df_test['Retained.in.2012.'].value_counts(normalize=True))"
   ]
  },
  {
   "attachments": {},
   "cell_type": "markdown",
   "metadata": {},
   "source": [
    "# 5 Fitting a logistic regression model\n",
    "\n",
    "Let us fit a logistic regression model with all the variables included on the training set."
   ]
  },
  {
   "cell_type": "code",
   "execution_count": 94,
   "metadata": {},
   "outputs": [
    {
     "data": {
      "text/plain": [
       "LogisticRegression()"
      ]
     },
     "execution_count": 94,
     "metadata": {},
     "output_type": "execute_result"
    }
   ],
   "source": [
    "X = df_train.drop('Retained.in.2012.', axis=1)\n",
    "y = df_train['Retained.in.2012.']\n",
    "\n",
    "# Drop the columns that have both normal and surrogate variables, drop the normal variables and keep the surrogate variables\n",
    "X = X.drop(['From.Grade','Early.RPL','Latest.RPL','Initial.System.Date','Total.School.Enrollment','FirstMeeting','LastMeeting',\n",
    "            'DifferenceTraveltoFirstMeeting','DifferenceTraveltoLastMeeting','FPP.to.School.enrollment','To.Grade','Special.Pay',\n",
    "            'Poverty.Code','CRM.Segment','MDR.Low.Grade','MDR.High.Grade','Income.Level','SchoolSizeIndicator'], axis=1)\n",
    "\n",
    "# Change the columns that are type date to integer\n",
    "for col in X.columns:\n",
    "    if X[col].dtype == 'datetime64[ns]':\n",
    "        X[col] = X[col].astype(int)\n",
    "\n",
    "X = pd.get_dummies(X, drop_first=True)\n",
    "\n",
    "# Fit a logistic regression model\n",
    "from sklearn.linear_model import LogisticRegression\n",
    "from sklearn.metrics import roc_auc_score\n",
    "\n",
    "logreg = LogisticRegression()\n",
    "logreg.fit(X, y)"
   ]
  },
  {
   "cell_type": "code",
   "execution_count": 95,
   "metadata": {},
   "outputs": [
    {
     "name": "stdout",
     "output_type": "stream",
     "text": [
      "              precision    recall  f1-score   support\n",
      "\n",
      "           0       1.00      0.00      0.01       746\n",
      "           1       0.61      1.00      0.75      1142\n",
      "\n",
      "    accuracy                           0.61      1888\n",
      "   macro avg       0.80      0.50      0.38      1888\n",
      "weighted avg       0.76      0.61      0.46      1888\n",
      "\n",
      "[[   2  744]\n",
      " [   0 1142]]\n"
     ]
    }
   ],
   "source": [
    "# Get the statistics of the model\n",
    "from sklearn.metrics import classification_report\n",
    "from sklearn.metrics import confusion_matrix\n",
    "\n",
    "y_pred = logreg.predict(X)\n",
    "print(classification_report(y, y_pred))\n",
    "print(confusion_matrix(y, y_pred))"
   ]
  },
  {
   "attachments": {},
   "cell_type": "markdown",
   "metadata": {},
   "source": [
    "The model is overfit. It has too many insignificant variables.\\\n",
    "Let us fit a much simpler model. We will use stepwise regressions.\\\n",
    "Recall stepwise regression from BUS 41100 Applied regression course. See, for example, Week 9 slides. You can also check Section 6.1.2 of the ISLR book.\\\n",
    "There are three approaches to running stepwise regressions: backward, forward and both. We need to specify criterion for inclusion/exclusion of variables. We will use one based on Bayesian information criteria.\\\n",
    "Observe the process of variables being added to the model, (labeled by “+” in the output), gradual expansion of the model, and improvement of BIC."
   ]
  },
  {
   "attachments": {},
   "cell_type": "markdown",
   "metadata": {},
   "source": [
    "While we are investigating variable selection in logistic regression models, let us also use a more modern approach to variable selection. We will use the lasso.\n",
    "\n",
    "If you have not seen this in BUS 41100 Applied regression course, do not worry. We will provide more details in the Week 5. You can also check Section 6.2.2 of the ISLR book.\n",
    "\n",
    "I provide the code to fit a lasso logistic regression model. We find coefficients β that minimize the deviance loss plus the penalty.\n",
    "\n",
    "First, we need to create a model matrix that will be used as an input to the package."
   ]
  },
  {
   "cell_type": "code",
   "execution_count": 96,
   "metadata": {},
   "outputs": [
    {
     "data": {
      "text/plain": [
       "0.019070920633219024"
      ]
     },
     "execution_count": 96,
     "metadata": {},
     "output_type": "execute_result"
    }
   ],
   "source": [
    "from sklearn import datasets\n",
    "from sklearn.linear_model import LassoCV\n",
    "from sklearn.model_selection import train_test_split\n",
    "\n",
    "#\n",
    "# Create an instance of Lasso Regression implementation\n",
    "#\n",
    "lasso_cv = LassoCV(cv=5, random_state=233)\n",
    "#\n",
    "# Fit the Lasso model\n",
    "#\n",
    "lasso_cv.fit(X, y)\n",
    "#\n",
    "# Create the model score\n",
    "#\n",
    "lasso_cv.score(X, y)\n"
   ]
  },
  {
   "cell_type": "code",
   "execution_count": 124,
   "metadata": {},
   "outputs": [
    {
     "data": {
      "image/png": "[encoded data removed]",
      "text/plain": [
       "<Figure size 1000x600 with 1 Axes>"
      ]
     },
     "metadata": {},
     "output_type": "display_data"
    }
   ],
   "source": [
    "# Plot the cross-validation curve\n",
    "m_log_alphas = -np.log10(lasso_cv.alphas_)\n",
    "plt.figure(figsize=(10, 6))\n",
    "plt.plot(m_log_alphas, lasso_cv.mse_path_, ':')\n",
    "plt.plot(m_log_alphas, lasso_cv.mse_path_.mean(axis=-1), 'k',\n",
    "            label='Average across the folds', linewidth=2)\n",
    "plt.axvline(-np.log10(lasso_cv.alpha_), linestyle='--', color='k',\n",
    "            label='alpha: CV estimate')\n",
    "plt.legend()\n",
    "plt.xlabel('-log(alpha)')\n",
    "plt.ylabel('Mean square error')\n",
    "plt.title('Mean square error on each fold: coordinate descent ')\n",
    "plt.axis('tight')\n",
    "plt.show()"
   ]
  },
  {
   "cell_type": "code",
   "execution_count": null,
   "metadata": {},
   "outputs": [],
   "source": []
  }
 ],
 "metadata": {
  "kernelspec": {
   "display_name": "base",
   "language": "python",
   "name": "python3"
  },
  "language_info": {
   "codemirror_mode": {
    "name": "ipython",
    "version": 3
   },
   "file_extension": ".py",
   "mimetype": "text/x-python",
   "name": "python",
   "nbconvert_exporter": "python",
   "pygments_lexer": "ipython3",
   "version": "3.9.13"
  },
  "orig_nbformat": 4,
  "vscode": {
   "interpreter": {
    "hash": "3067ead486e059ec00ffe7555bdb889e6e264a24dc711bf108106cc7baee8d5d"
   }
  }
 },
 "nbformat": 4,
 "nbformat_minor": 2
}
